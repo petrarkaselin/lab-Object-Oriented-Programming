{
 "cells": [
  {
   "cell_type": "markdown",
   "id": "435adf0f-0318-488e-afff-c98a81df11f8",
   "metadata": {},
   "source": [
    "# Lab | Object Oriented Programming\n",
    "\n",
    "## Introduction\n",
    "\n",
    "In this lab you have to implement a Python class for a TV.\n",
    "\n",
    "## Constructor\n",
    "\n",
    "Crete a Python Tv class with a constructor and the following attributes:\n",
    "\n",
    "* .on (Boolean)\n",
    "* .volume (float in [0,100])\n",
    "* .active_channel (int in [1,10])\n",
    "* .input (str in [\"Anthena\", \"HDMI1\", \"HDMI2\", \"HDMI3\"])\n",
    "* .size (float in [42, 50, 55, 65, 75])\n",
    "\n",
    "## Methods\n",
    "\n",
    "* .switch_on()\n",
    "* .switch_off()\n",
    "* .set_volume(volume: int)\n",
    "* .change_channel(channel: int)\n",
    "* .set_input(value: str)\n",
    "\n",
    "## Submission\n",
    "\n",
    "Upon completion, add your jupyter notebook to git. Then commit git and push your branch to the remote.\n",
    "\n",
    "## Resources\n",
    "\n",
    "[Classes in Python Tutorials](https://www.youtube.com/playlist?list=PL-osiE80TeTsqhIuOqKhwlXsIBIdSeYtc)\n"
   ]
  },
  {
   "cell_type": "code",
   "execution_count": 1,
   "id": "57a1c1ed-04c9-455e-9a02-53211e084299",
   "metadata": {},
   "outputs": [
    {
     "name": "stdout",
     "output_type": "stream",
     "text": [
      "TV is now ON.\n",
      "Volume set to 75.0.\n",
      "Changed to channel 5.\n",
      "Input set to HDMI2.\n",
      "TV is now OFF.\n"
     ]
    }
   ],
   "source": [
    "class TV:\n",
    "    def __init__(self, size):\n",
    "        self.on = False\n",
    "        self.volume = 50.0  # Default volume set to 50\n",
    "        self.active_channel = 1\n",
    "        self.input = \"Anthena\"\n",
    "        self.size = size\n",
    "\n",
    "    def switch_on(self):\n",
    "        self.on = True\n",
    "        print(\"TV is now ON.\")\n",
    "\n",
    "    def switch_off(self):\n",
    "        self.on = False\n",
    "        print(\"TV is now OFF.\")\n",
    "\n",
    "    def set_volume(self, volume):\n",
    "        if 0 <= volume <= 100:\n",
    "            self.volume = float(volume)\n",
    "            print(f\"Volume set to {self.volume}.\")\n",
    "        else:\n",
    "            print(\"Invalid volume. Please provide a value between 0 and 100.\")\n",
    "\n",
    "    def change_channel(self, channel):\n",
    "        if 1 <= channel <= 10:\n",
    "            self.active_channel = channel\n",
    "            print(f\"Changed to channel {self.active_channel}.\")\n",
    "        else:\n",
    "            print(\"Invalid channel. Please provide a value between 1 and 10.\")\n",
    "\n",
    "    def set_input(self, value):\n",
    "        valid_inputs = [\"Anthena\", \"HDMI1\", \"HDMI2\", \"HDMI3\"]\n",
    "        if value in valid_inputs:\n",
    "            self.input = value\n",
    "            print(f\"Input set to {self.input}.\")\n",
    "        else:\n",
    "            print(\"Invalid input. Please choose from Anthena, HDMI1, HDMI2, HDMI3.\")\n",
    "\n",
    "# Example usage:\n",
    "tv_instance = TV(size=55)\n",
    "tv_instance.switch_on()\n",
    "tv_instance.set_volume(75)\n",
    "tv_instance.change_channel(5)\n",
    "tv_instance.set_input(\"HDMI2\")\n",
    "tv_instance.switch_off()"
   ]
  }
 ],
 "metadata": {
  "kernelspec": {
   "display_name": "Python 3 (ipykernel)",
   "language": "python",
   "name": "python3"
  },
  "language_info": {
   "codemirror_mode": {
    "name": "ipython",
    "version": 3
   },
   "file_extension": ".py",
   "mimetype": "text/x-python",
   "name": "python",
   "nbconvert_exporter": "python",
   "pygments_lexer": "ipython3",
   "version": "3.11.5"
  }
 },
 "nbformat": 4,
 "nbformat_minor": 5
}
